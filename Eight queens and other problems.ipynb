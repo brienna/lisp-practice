{
 "cells": [
  {
   "cell_type": "markdown",
   "metadata": {},
   "source": [
    "#### Return the tenth element of a list."
   ]
  },
  {
   "cell_type": "markdown",
   "metadata": {},
   "source": [
    "Script variation 1:"
   ]
  },
  {
   "cell_type": "code",
   "execution_count": 1,
   "metadata": {},
   "outputs": [
    {
     "data": {
      "text/plain": [
       "OUR-TENTH"
      ]
     },
     "execution_count": 1,
     "metadata": {},
     "output_type": "execute_result"
    }
   ],
   "source": [
    "(defun our-tenth (x)\n",
    "    (nth 9 x))"
   ]
  },
  {
   "cell_type": "code",
   "execution_count": 2,
   "metadata": {},
   "outputs": [
    {
     "data": {
      "text/plain": [
       "10"
      ]
     },
     "execution_count": 2,
     "metadata": {},
     "output_type": "execute_result"
    }
   ],
   "source": [
    "(our-tenth '(1 2 3 4 5 6 7 8 9 10 11))"
   ]
  },
  {
   "cell_type": "code",
   "execution_count": 4,
   "metadata": {},
   "outputs": [
    {
     "data": {
      "text/plain": [
       "J"
      ]
     },
     "execution_count": 4,
     "metadata": {},
     "output_type": "execute_result"
    }
   ],
   "source": [
    "(our-tenth '(a b c d e f g h i j k l m o p q r s \\t u v w x z y))"
   ]
  },
  {
   "cell_type": "markdown",
   "metadata": {},
   "source": [
    "Script variation 2:"
   ]
  },
  {
   "cell_type": "code",
   "execution_count": 6,
   "metadata": {},
   "outputs": [
    {
     "data": {
      "text/plain": [
       "OUR-TENTH2"
      ]
     },
     "execution_count": 6,
     "metadata": {},
     "output_type": "execute_result"
    }
   ],
   "source": [
    "(defun our-tenth2 (x)\n",
    "    (car (cdr (cdr (cdr (cdr (cdr (cdr (cdr (cdr (cdr x)))))))))))"
   ]
  },
  {
   "cell_type": "code",
   "execution_count": 7,
   "metadata": {},
   "outputs": [
    {
     "data": {
      "text/plain": [
       "10"
      ]
     },
     "execution_count": 7,
     "metadata": {},
     "output_type": "execute_result"
    }
   ],
   "source": [
    "(our-tenth2 '(1 2 3 4 5 6 7 8 9 10 11))"
   ]
  },
  {
   "cell_type": "code",
   "execution_count": 8,
   "metadata": {},
   "outputs": [
    {
     "data": {
      "text/plain": [
       "J"
      ]
     },
     "execution_count": 8,
     "metadata": {},
     "output_type": "execute_result"
    }
   ],
   "source": [
    "(our-tenth2 '(a b c d e f g h i j k l m o p q r s \\t u v w x z y))"
   ]
  },
  {
   "cell_type": "markdown",
   "metadata": {},
   "source": [
    "#### Show the number and its cube for the values between 2 and 10."
   ]
  },
  {
   "cell_type": "code",
   "execution_count": 11,
   "metadata": {},
   "outputs": [
    {
     "data": {
      "text/plain": [
       "SHOW-CUBES"
      ]
     },
     "execution_count": 11,
     "metadata": {},
     "output_type": "execute_result"
    },
    {
     "name": "stdout",
     "output_type": "stream",
     "text": [
      "\n",
      "REDEFINITION-WITH-DEFUN: \n",
      "  redefining COMMON-LISP-USER::SHOW-CUBES in DEFUN\n"
     ]
    }
   ],
   "source": [
    "(defun show-cubes (values)\n",
    "    (mapcar\n",
    "     (lambda (x) (format t \"~D cubed: ~D~%\" x (* x x x)))\n",
    "     values))"
   ]
  },
  {
   "cell_type": "code",
   "execution_count": 12,
   "metadata": {},
   "outputs": [
    {
     "data": {
      "text/plain": [
       "(NIL NIL NIL NIL NIL NIL NIL NIL NIL)"
      ]
     },
     "execution_count": 12,
     "metadata": {},
     "output_type": "execute_result"
    },
    {
     "name": "stdout",
     "output_type": "stream",
     "text": [
      "2 cubed: 8\n",
      "3 cubed: 27\n",
      "4 cubed: 64\n",
      "5 cubed: 125\n",
      "6 cubed: 216\n",
      "7 cubed: 343\n",
      "8 cubed: 512\n",
      "9 cubed: 729\n",
      "10 cubed: 1000\n"
     ]
    }
   ],
   "source": [
    "(show-cubes '(2 3 4 5 6 7 8 9 10))"
   ]
  },
  {
   "cell_type": "code",
   "execution_count": 18,
   "metadata": {},
   "outputs": [
    {
     "data": {
      "text/plain": [
       "(NIL NIL NIL NIL)"
      ]
     },
     "execution_count": 18,
     "metadata": {},
     "output_type": "execute_result"
    },
    {
     "name": "stdout",
     "output_type": "stream",
     "text": [
      "4 cubed: 64\n",
      "5 cubed: 125\n",
      "6 cubed: 216\n",
      "7 cubed: 343\n"
     ]
    }
   ],
   "source": [
    "(show-cubes '(4 5 6 7))"
   ]
  },
  {
   "cell_type": "markdown",
   "metadata": {},
   "source": [
    "#### Implement an informed search and have as an argument eight queens randomly placed on a board and return a list that consists of the same queens in locations that they do not threaten each other. Pick an admissible heuristic of your choice.\n",
    "\n",
    "Heuristic: Number of queens that are threatened. If it is 0, we have reached our goal state."
   ]
  },
  {
   "cell_type": "code",
   "execution_count": 31,
   "metadata": {
    "scrolled": true
   },
   "outputs": [
    {
     "data": {
      "text/plain": [
       "MAKE-BOARD"
      ]
     },
     "execution_count": 31,
     "metadata": {},
     "output_type": "execute_result"
    },
    {
     "data": {
      "text/plain": [
       "OUT-OF-BOUNDS"
      ]
     },
     "execution_count": 31,
     "metadata": {},
     "output_type": "execute_result"
    },
    {
     "data": {
      "text/plain": [
       "IS-QUEEN"
      ]
     },
     "execution_count": 31,
     "metadata": {},
     "output_type": "execute_result"
    },
    {
     "data": {
      "text/plain": [
       "SEARCH-ROW"
      ]
     },
     "execution_count": 31,
     "metadata": {},
     "output_type": "execute_result"
    },
    {
     "data": {
      "text/plain": [
       "SEARCH-COLUMN"
      ]
     },
     "execution_count": 31,
     "metadata": {},
     "output_type": "execute_result"
    },
    {
     "data": {
      "text/plain": [
       "SEARCH-UP-LEFT-DIAGONAL"
      ]
     },
     "execution_count": 31,
     "metadata": {},
     "output_type": "execute_result"
    },
    {
     "data": {
      "text/plain": [
       "SEARCH-UP-RIGHT-DIAGONAL"
      ]
     },
     "execution_count": 31,
     "metadata": {},
     "output_type": "execute_result"
    },
    {
     "data": {
      "text/plain": [
       "SEARCH-DOWN-LEFT-DIAGONAL"
      ]
     },
     "execution_count": 31,
     "metadata": {},
     "output_type": "execute_result"
    },
    {
     "data": {
      "text/plain": [
       "SEARCH-DOWN-RIGHT-DIAGONAL"
      ]
     },
     "execution_count": 31,
     "metadata": {},
     "output_type": "execute_result"
    },
    {
     "data": {
      "text/plain": [
       "SEARCH-DIAGONALS"
      ]
     },
     "execution_count": 31,
     "metadata": {},
     "output_type": "execute_result"
    },
    {
     "data": {
      "text/plain": [
       "GET-NUM-THREATS"
      ]
     },
     "execution_count": 31,
     "metadata": {},
     "output_type": "execute_result"
    },
    {
     "data": {
      "text/plain": [
       "IS-THREATENED"
      ]
     },
     "execution_count": 31,
     "metadata": {},
     "output_type": "execute_result"
    },
    {
     "data": {
      "text/plain": [
       "GET-THREATENED-QUEENS"
      ]
     },
     "execution_count": 31,
     "metadata": {},
     "output_type": "execute_result"
    },
    {
     "data": {
      "text/plain": [
       "ENFORCE-ONE-QUEEN-PER-COLUMN"
      ]
     },
     "execution_count": 31,
     "metadata": {},
     "output_type": "execute_result"
    },
    {
     "data": {
      "text/plain": [
       "GET-RANDOM-QUEEN"
      ]
     },
     "execution_count": 31,
     "metadata": {},
     "output_type": "execute_result"
    },
    {
     "data": {
      "text/plain": [
       "SOLVE"
      ]
     },
     "execution_count": 31,
     "metadata": {},
     "output_type": "execute_result"
    },
    {
     "name": "stdout",
     "output_type": "stream",
     "text": [
      "undefined variable: COMMON-LISP-USER::BOARD\n",
      "undefined variable: COMMON-LISP-USER::X\n",
      "undefined variable: COMMON-LISP-USER::Y\n",
      "\n",
      "REDEFINITION-WITH-DEFUN: \n",
      "  redefining COMMON-LISP-USER::MAKE-BOARD in DEFUN\n",
      "\n",
      "REDEFINITION-WITH-DEFUN: \n",
      "  redefining COMMON-LISP-USER::OUT-OF-BOUNDS in DEFUN\n",
      "\n",
      "REDEFINITION-WITH-DEFUN: \n",
      "  redefining COMMON-LISP-USER::IS-QUEEN in DEFUN\n",
      "\n",
      "REDEFINITION-WITH-DEFUN: \n",
      "  redefining COMMON-LISP-USER::SEARCH-ROW in DEFUN\n",
      "\n",
      "REDEFINITION-WITH-DEFUN: \n",
      "  redefining COMMON-LISP-USER::SEARCH-COLUMN in DEFUN\n",
      "\n",
      "REDEFINITION-WITH-DEFUN: \n",
      "  redefining COMMON-LISP-USER::SEARCH-UP-LEFT-DIAGONAL in DEFUN\n",
      "\n",
      "REDEFINITION-WITH-DEFUN: \n",
      "  redefining COMMON-LISP-USER::SEARCH-UP-RIGHT-DIAGONAL in DEFUN\n",
      "\n",
      "REDEFINITION-WITH-DEFUN: \n",
      "  redefining COMMON-LISP-USER::SEARCH-DOWN-LEFT-DIAGONAL in DEFUN\n",
      "\n",
      "REDEFINITION-WITH-DEFUN: \n",
      "  redefining COMMON-LISP-USER::SEARCH-DOWN-RIGHT-DIAGONAL in DEFUN\n",
      "\n",
      "REDEFINITION-WITH-DEFUN: \n",
      "  redefining COMMON-LISP-USER::SEARCH-DIAGONALS in DEFUN\n",
      "\n",
      "REDEFINITION-WITH-DEFUN: \n",
      "  redefining COMMON-LISP-USER::GET-NUM-THREATS in DEFUN\n",
      "\n",
      "REDEFINITION-WITH-DEFUN: \n",
      "  redefining COMMON-LISP-USER::IS-THREATENED in DEFUN\n",
      "\n",
      "REDEFINITION-WITH-DEFUN: \n",
      "  redefining COMMON-LISP-USER::GET-THREATENED-QUEENS in DEFUN\n",
      "\n",
      "REDEFINITION-WITH-DEFUN: \n",
      "  redefining COMMON-LISP-USER::ENFORCE-ONE-QUEEN-PER-COLUMN in DEFUN\n",
      "\n",
      "REDEFINITION-WITH-DEFUN: \n",
      "  redefining COMMON-LISP-USER::GET-RANDOM-QUEEN in DEFUN\n",
      "\n",
      "REDEFINITION-WITH-DEFUN: \n",
      "  redefining COMMON-LISP-USER::SOLVE in DEFUN\n"
     ]
    }
   ],
   "source": [
    "(defun make-board (num-queens)\n",
    "    (setf board (make-array '(8 8))) ;; make empty board\n",
    "    (dotimes (i num-queens) ;; for each of 8 queens,\n",
    "\n",
    "        (loop ; loop until we generate a random coordinate that doesn't already have a queen in it\n",
    "            (setf x (random 8) y (random 8)) \n",
    "            (when (not (eql (aref board x y) 1)) \n",
    "                (return))\n",
    "        )\n",
    "\n",
    "        (setf (aref board x y) 1) ;; add queen to this coordinate\n",
    "    ) board ;; return board\n",
    ") \n",
    "\n",
    "(defun out-of-bounds (board x y) \n",
    "    (or (>= x (array-dimension board 0)) \n",
    "        (>= y (array-dimension board 1)) \n",
    "        (< y 0) \n",
    "        (< x 0)\n",
    "    )\n",
    ")\n",
    "\n",
    "(defun is-queen (board x y)\n",
    "    (eql (aref board y x) 1)\n",
    ")\n",
    "\n",
    "(defun search-row (board x y)\n",
    "    (let ((num-threats 0)) \n",
    "        (dotimes (a (array-dimension board 1)) ;; loop over the columns in that row\n",
    "            (if (and (not (eql x a)) (is-queen board a y)) ;; if the cell is a queen and not the same queen\n",
    "                (progn\n",
    "                    ;(format t \"(~A, ~A) is a queen in the same row~%\" a y)\n",
    "                    (incf num-threats 1) ;; immediately return true - there is another queen in this row\n",
    "                )\n",
    "            )\n",
    "        )\n",
    "         \n",
    "        num-threats\n",
    "    )\n",
    ")\n",
    "\n",
    "(defun search-column (board x y)\n",
    "    (let ((num-threats 0))\n",
    "        (dotimes (b (array-dimension board 0)) ; loop over the rows in that column\n",
    "            (if (and (not (eql y b)) (is-queen board x b)) ; if the cell contains a queen\n",
    "                (progn\n",
    "                    ;(format t \"(~A, ~A) is a queen in the same column~%\" x b)\n",
    "                    (incf num-threats 1) ; immediately return true - there is a queen in this row\n",
    "                )\n",
    "            )\n",
    "        )\n",
    "        num-threats\n",
    "    )\n",
    ")\n",
    "\n",
    "(defun search-up-left-diagonal (board x y)\n",
    "    \n",
    "    (let ((num-threats 0))\n",
    "        ;(format t \"Searching up the left diagonal from (~A, ~A)...~%\" x y)\n",
    "        (do ((a (- x 1) (- a 1)) \n",
    "             (b (- y 1) (- b 1))) \n",
    "            ((out-of-bounds board a b) nil) ; end clause\n",
    "            (if (is-queen board a b) ;; if current coordinate holds queen\n",
    "                (progn\n",
    "                    ;(format t \"(~A, ~A) is a queen in the same diagonal~%\" a b) ;; print info\n",
    "                    (incf num-threats 1) ;; return true\n",
    "                )\n",
    "            )\n",
    "        )\n",
    "        num-threats\n",
    "    )\n",
    ")\n",
    "\n",
    "(defun search-up-right-diagonal (board x y)\n",
    "    \n",
    "    (let ((num-threats 0))\n",
    "        ;(format t \"Searching up the right diagonal from (~A, ~A)...~%\" x y)\n",
    "        (do ((a (+ x 1) (+ a 1)) \n",
    "             (b (- y 1) (- b 1))) \n",
    "            ((out-of-bounds board a b) nil) ; end clause\n",
    "            (if (is-queen board a b) ;; if current coordinate holds queen\n",
    "                (progn\n",
    "                    ;(format t \"(~A, ~A) is a queen in the same diagonal~%\" a b) ;; print info\n",
    "                    (incf num-threats 1) ;; return true\n",
    "                )\n",
    "            )\n",
    "        )\n",
    "        num-threats\n",
    "    )\n",
    ")\n",
    "\n",
    "(defun search-down-left-diagonal (board x y)\n",
    "    ;(format t \"Searching down the left diagonal from (~A, ~A)...~%\" x y)\n",
    "    (let ((num-threats 0))\n",
    "        (do ((a (- x 1) (- a 1)) \n",
    "             (b (+ y 1) (+ b 1))) \n",
    "            ((out-of-bounds board a b) nil) ; end clause\n",
    "            (if (is-queen board a b) ;; if current coordinate holds queen\n",
    "                (progn\n",
    "                    ;(format t \"(~A, ~A) is a queen in the same diagonal~%\" a b) ;; print info\n",
    "                    (incf num-threats 1) \n",
    "                )\n",
    "            )\n",
    "        )\n",
    "        num-threats\n",
    "    )\n",
    ")\n",
    "\n",
    "(defun search-down-right-diagonal (board x y)\n",
    "    \n",
    "    (let ((num-threats 0))\n",
    "        ;(format t \"Searching down the right diagonal from (~A, ~A)...~%\" x y)\n",
    "        (do ((a (+ x 1) (+ a 1)) \n",
    "             (b (+ y 1) (+ b 1))) \n",
    "            ((out-of-bounds board a b) nil) ; end clause\n",
    "            (if (is-queen board a b) ;; if current coordinate holds queen\n",
    "                (progn\n",
    "                    ;(format t \"(~A, ~A) is a queen in the same diagonal~%\" a b) ;; print info\n",
    "                    (incf num-threats 1) ;; return true\n",
    "                )\n",
    "            )\n",
    "        )\n",
    "        num-threats\n",
    "    )\n",
    ")\n",
    "\n",
    "(defun search-diagonals (board x y) \n",
    "    (+ (search-up-left-diagonal board x y)\n",
    "        (search-up-right-diagonal board x y)\n",
    "        (search-down-left-diagonal board x y)\n",
    "        (search-down-right-diagonal board x y)\n",
    "    )\n",
    ")\n",
    "\n",
    "(defun get-num-threats (board x y)\n",
    "    (+ (search-row board x y)\n",
    "        (search-column board x y)\n",
    "        (search-diagonals board x y))\n",
    ")\n",
    "\n",
    "(defun is-threatened (board x y)\n",
    "    (if (> (get-num-threats board x y) 0)\n",
    "        t\n",
    "        nil\n",
    "    )\n",
    ")\n",
    "\n",
    "(defun get-threatened-queens (board)\n",
    "    (let ((threatened-queens '()))\n",
    "        (dotimes (x (array-dimension board 0)) ; loop over columns\n",
    "            (dotimes (y (array-dimension board 1)) ; loop over rows\n",
    "                (if (and (is-queen board x y) (is-threatened board x y))\n",
    "                    (progn\n",
    "                        ;(format t \"(~A, ~A) is a threatened queen~%\" x y)\n",
    "                        (setf threatened-queens (cons (cons x y) threatened-queens))\n",
    "                    )\n",
    "                )\n",
    "            )\n",
    "        )\n",
    "         \n",
    "        threatened-queens ; return total (as last expression in let)\n",
    "    )\n",
    ")\n",
    "\n",
    "(defun enforce-one-queen-per-column (board)\n",
    "    (dotimes (col (array-dimension board 1)) ; loop over columns (going back to 1st column at the end)\n",
    "        (let ((has-queen nil)) ; to track whether the column has one queen\n",
    "            \n",
    "            (dotimes (row (array-dimension board 0)) ; loop over cells\n",
    "                (if (eql (aref board row col) 1) ; if cell contains a queen\n",
    "                    (if (not has-queen) ; if we have no queen in this column yet, track this queen\n",
    "                        (setf has-queen t)\n",
    "                        (progn ; otherwise, remove queen\n",
    "                            (setf (aref board row col) 0)\n",
    "                        ) \n",
    "                    )\n",
    "                )\n",
    "            )\n",
    "             \n",
    "            (if (not has-queen) ; if this column had no queens, randomly place one\n",
    "                (setf (aref board (random 8) col) 1)\n",
    "            )\n",
    "        )\n",
    "    )\n",
    ")\n",
    "\n",
    "(defun get-random-queen (board)\n",
    "    (let ((randx (random 8)))\n",
    "        (dotimes (y (array-dimension board 1))\n",
    "            (if (is-queen board randx y)\n",
    "                (return (cons randx y))\n",
    "            )\n",
    "        )\n",
    "    )\n",
    ")\n",
    "\n",
    "(defun solve (board max-steps)\n",
    "    \n",
    "    (enforce-one-queen-per-column board)\n",
    "    \n",
    "    (dotimes (step max-steps) ; repeat for a max amount of times, \n",
    "        (if (eql (get-threatened-queens board) 0) ; if we have solved the board, return it\n",
    "            (progn\n",
    "                ;(format t \"Solved!\")\n",
    "                (return board)\n",
    "            )\n",
    "            ;(format t \"Threatened queens: ~A~%\" (length (get-threatened-queens board)))\n",
    "        )\n",
    "            \n",
    "        (let ((threatened-queens (get-threatened-queens board)) ; get all threatened queens\n",
    "              (queen nil))\n",
    "             \n",
    "             (setf queen (nth (random (length threatened-queens)) threatened-queens)) ; choose random threatened queen\n",
    "             \n",
    "             ; find which row in its column where it would be least threatened\n",
    "             (let ((row-with-min-threats nil) ; (row_index, num_threats set to a high number)\n",
    "                   (col (car queen))\n",
    "                   (row (cdr queen)))\n",
    "                  \n",
    "                  ;(format t \"Dealing with queen at (~A, ~A)...~%\" col row)\n",
    "\n",
    "                  (dotimes (i (array-dimension board 0)) ; for each row, find num of threats\n",
    "                      (let ((num-threats (get-num-threats board col i)))\n",
    "                           ;(print (car row-with-min-threats))\n",
    "                           ;(format t \"Checking (~A, ~A)~%\" col i)\n",
    "                           ;(format t \"Threatened by ~A queens...~%\" num-threats)\n",
    "                               \n",
    "                            ; if row-with-min-threats has not yet been initialized\n",
    "                           ; or if the row's threat is smaller than the tracked row with min threats\n",
    "                           \n",
    "                            ; take first row as min threat so far\n",
    "                            (if (eql row-with-min-threats nil) ; \n",
    "                                (setf row-with-min-threats (cons i num-threats))\n",
    "                                (if (< num-threats (cdr row-with-min-threats)) ; if not first row and current min threats is smaller than tracked min\n",
    "                                    (setf row-with-min-threats (cons i num-threats))\n",
    "                                    (if (and (eql num-threats (cdr row-with-min-threats)) \n",
    "                                             (eql (random 2) 1))                            ; if current cell's & min cell's threats are equal, we randomly decide which cell to assign\n",
    "                                        (progn \n",
    "                                            ;(format t \"Randomly chose (~A, ~A)...~%\" col i)\n",
    "                                            (setf row-with-min-threats (cons i num-threats)))\n",
    "                                        )\n",
    "                                    )\n",
    "                            )\n",
    "                           \n",
    "                        )\n",
    "                 )\n",
    "                  \n",
    "                  ;(format t \"Least threatened cell is (~A, ~A)...~%\" col (car row-with-min-threats))\n",
    "                  \n",
    "                  (if (not (eql row (car row-with-min-threats))) ; if its least threatened position isn't where it currently is\n",
    "                      (progn\n",
    "                          (setf (aref board (car row-with-min-threats) col) 1) ; move queen\n",
    "                          (setf (aref board row col) 0) \n",
    "                          ;(format t \"Moved queen to (~A, ~A)...~%\" col (car row-with-min-threats))\n",
    "                      )\n",
    "                  )\n",
    "\n",
    "                  \n",
    "\n",
    "             )\n",
    "        )\n",
    "    )\n",
    "    \n",
    "    board\n",
    ")"
   ]
  },
  {
   "cell_type": "code",
   "execution_count": 25,
   "metadata": {
    "scrolled": true
   },
   "outputs": [
    {
     "data": {
      "text/plain": [
       "#2A((0 0 0 0 0 0 0 0)\n",
       "    (0 0 1 0 0 0 0 0)\n",
       "    (1 0 0 0 0 0 0 0)\n",
       "    (1 0 0 0 0 0 1 0)\n",
       "    (0 0 0 0 0 0 1 0)\n",
       "    (1 0 0 0 0 1 0 0)\n",
       "    (0 0 0 1 0 0 0 0)\n",
       "    (0 0 0 0 0 0 0 0))"
      ]
     },
     "execution_count": 25,
     "metadata": {},
     "output_type": "execute_result"
    },
    {
     "name": "stdout",
     "output_type": "stream",
     "text": [
      "undefined variable: COMMON-LISP-USER::BOARD\n"
     ]
    }
   ],
   "source": [
    "(setf board (make-board 8))"
   ]
  },
  {
   "cell_type": "code",
   "execution_count": 32,
   "metadata": {},
   "outputs": [
    {
     "data": {
      "text/plain": [
       "#2A((0 0 0 0 0 1 0 0)\n",
       "    (0 0 1 0 0 0 0 0)\n",
       "    (1 0 0 0 0 0 0 0)\n",
       "    (0 0 0 0 0 0 1 0)\n",
       "    (0 0 0 1 0 0 0 0)\n",
       "    (0 0 0 0 0 0 0 1)\n",
       "    (0 0 0 0 1 0 0 0)\n",
       "    (0 1 0 0 0 0 0 0))"
      ]
     },
     "execution_count": 32,
     "metadata": {},
     "output_type": "execute_result"
    }
   ],
   "source": [
    "(solve board 100)"
   ]
  }
 ],
 "metadata": {
  "kernelspec": {
   "display_name": "Common Lisp",
   "language": "common-lisp",
   "name": "common-lisp"
  },
  "language_info": {
   "codemirror_mode": "text/x-common-lisp",
   "file_extension": ".lisp",
   "mimetype": "text/x-common-lisp",
   "name": "common-lisp",
   "pygments_lexer": "common-lisp",
   "version": "1.5.8"
  }
 },
 "nbformat": 4,
 "nbformat_minor": 2
}

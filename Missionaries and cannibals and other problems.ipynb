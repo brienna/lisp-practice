{
 "cells": [
  {
   "cell_type": "markdown",
   "metadata": {},
   "source": [
    "1. i) Write a function called removetext, which has as inputs a symbol and list. It returns a list in which all occurrences of the symbol have been replaced by ZZZZ. The function must be written recursively and cannnot make use of any of Lisp’s higher-order functions such as mapcar. The function only has to traverse the ”top-level” of the list. Here are some examples:\n",
    "\n",
    "`(removetext ′LISP ′(I LOV E LISP))`\n",
    "\n",
    "`(I LOV E ZZZZ)`"
   ]
  },
  {
   "cell_type": "code",
   "execution_count": 99,
   "metadata": {},
   "outputs": [
    {
     "data": {
      "text/plain": [
       "REMOVETEXT"
      ]
     },
     "execution_count": 99,
     "metadata": {},
     "output_type": "execute_result"
    },
    {
     "name": "stdout",
     "output_type": "stream",
     "text": [
      "\n",
      "REDEFINITION-WITH-DEFUN: \n",
      "  redefining COMMON-LISP-USER::REMOVETEXT in DEFUN\n"
     ]
    }
   ],
   "source": [
    "(defun removetext (symbol list replaced)\n",
    "    (if (not list)   ; if initial list has been exhausted, return replaced list\n",
    "        (reverse replaced)\n",
    "        (if (eql (car list) symbol)   ; otherwise, if first element of list = symbol, replace with \"ZZZZ\"\n",
    "            (removetext symbol (cdr list) (cons 'ZZZZ replaced)) \n",
    "            (removetext symbol (cdr list) (cons (car list) replaced)) ; otherwise keep it \n",
    "        )\n",
    "    )\n",
    ")"
   ]
  },
  {
   "cell_type": "code",
   "execution_count": 100,
   "metadata": {},
   "outputs": [
    {
     "data": {
      "text/plain": [
       "(I LOV E ZZZZ ZZZZ)"
      ]
     },
     "execution_count": 100,
     "metadata": {},
     "output_type": "execute_result"
    }
   ],
   "source": [
    "(removetext 'LISP '(I LOV E LISP LISP) ())"
   ]
  },
  {
   "cell_type": "markdown",
   "metadata": {},
   "source": [
    "ii) Modify removetext to use mapcar. You must employ a lambda expression (avoid defining and using extraneous helper functions)."
   ]
  }
 ],
 "metadata": {
  "kernelspec": {
   "display_name": "Common Lisp",
   "language": "common-lisp",
   "name": "common-lisp"
  },
  "language_info": {
   "codemirror_mode": "text/x-common-lisp",
   "file_extension": ".lisp",
   "mimetype": "text/x-common-lisp",
   "name": "common-lisp",
   "pygments_lexer": "common-lisp",
   "version": "1.5.8"
  }
 },
 "nbformat": 4,
 "nbformat_minor": 2
}
